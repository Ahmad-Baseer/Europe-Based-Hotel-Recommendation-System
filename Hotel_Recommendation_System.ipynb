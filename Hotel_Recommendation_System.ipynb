{
 "cells": [
  {
   "cell_type": "code",
   "execution_count": 1,
   "id": "2b19428f",
   "metadata": {},
   "outputs": [
    {
     "name": "stderr",
     "output_type": "stream",
     "text": [
      "[nltk_data] Downloading package punkt to\n",
      "[nltk_data]     C:\\Users\\ahmed\\AppData\\Roaming\\nltk_data...\n",
      "[nltk_data]   Unzipping tokenizers\\punkt.zip.\n",
      "[nltk_data] Downloading package wordnet to\n",
      "[nltk_data]     C:\\Users\\ahmed\\AppData\\Roaming\\nltk_data...\n",
      "[nltk_data] Downloading package stopwords to\n",
      "[nltk_data]     C:\\Users\\ahmed\\AppData\\Roaming\\nltk_data...\n",
      "[nltk_data]   Unzipping corpora\\stopwords.zip.\n",
      "[nltk_data] Downloading package omw-1.4 to\n",
      "[nltk_data]     C:\\Users\\ahmed\\AppData\\Roaming\\nltk_data...\n"
     ]
    }
   ],
   "source": [
    "import pandas as pd\n",
    "import numpy as np\n",
    "import nltk\n",
    "nltk.download('punkt')  #natural language processing toolkit \n",
    "nltk.download('wordnet')\n",
    "nltk.download('stopwords')\n",
    "nltk.download('omw-1.4')  # open multilanguage wordnet\n",
    "from nltk.corpus import stopwords\n",
    "from nltk.tokenize import word_tokenize\n",
    "from nltk.stem.wordnet import WordNetLemmatizer\n",
    "from ast import literal_eval   #To get rid from punctuation\n",
    "from zipfile import ZipFile"
   ]
  },
  {
   "cell_type": "code",
   "execution_count": 4,
   "id": "c447c480",
   "metadata": {},
   "outputs": [],
   "source": [
    "#reading dataset\n",
    "zf=ZipFile('./Hotel_Reviews.zip')\n",
    "data=pd.read_csv(zf.open(\"Hotel_Reviews.csv\"))"
   ]
  },
  {
   "cell_type": "code",
   "execution_count": null,
   "id": "cfd65475",
   "metadata": {},
   "outputs": [],
   "source": [
    "#data.head()"
   ]
  },
  {
   "cell_type": "code",
   "execution_count": null,
   "id": "a4ad7ccb",
   "metadata": {},
   "outputs": [],
   "source": [
    "#data.tail()"
   ]
  },
  {
   "cell_type": "code",
   "execution_count": null,
   "id": "398caa18",
   "metadata": {},
   "outputs": [],
   "source": [
    "#data.shape"
   ]
  },
  {
   "cell_type": "code",
   "execution_count": null,
   "id": "6c75850d",
   "metadata": {},
   "outputs": [],
   "source": [
    "#data.info()"
   ]
  },
  {
   "cell_type": "code",
   "execution_count": null,
   "id": "a848388b",
   "metadata": {},
   "outputs": [],
   "source": [
    "#print(data.Hotel_Address.head())"
   ]
  },
  {
   "cell_type": "code",
   "execution_count": 5,
   "id": "3f016c8e",
   "metadata": {},
   "outputs": [],
   "source": [
    "#for simplicity, I will change countries to countries Alpha-2 codes\n",
    "data.Hotel_Address=data.Hotel_Address.str.replace(\"Netherlands\",\"NL\")\n",
    "data.Hotel_Address=data.Hotel_Address.str.replace(\"United Kingdom\",\"UK\")\n",
    "data.Hotel_Address=data.Hotel_Address.str.replace(\"France\",\"FR\")\n",
    "data.Hotel_Address=data.Hotel_Address.str.replace(\"Spain\",\"ES\")\n",
    "data.Hotel_Address=data.Hotel_Address.str.replace(\"Italy\",\"IT\")\n",
    "data.Hotel_Address=data.Hotel_Address.str.replace(\"Austria\",\"AT\")"
   ]
  },
  {
   "cell_type": "code",
   "execution_count": 6,
   "id": "95a88f29",
   "metadata": {},
   "outputs": [],
   "source": [
    "#splitting hotel address and picking out last string which would be the countries\n",
    "# and store them in new column by the name\n",
    "data['countries']=data.Hotel_Address.apply(lambda x: x.split(' ')[-1])"
   ]
  },
  {
   "cell_type": "code",
   "execution_count": null,
   "id": "bc81d901",
   "metadata": {},
   "outputs": [],
   "source": [
    "#print(data.countries.unique())"
   ]
  },
  {
   "cell_type": "code",
   "execution_count": null,
   "id": "49ca5fc2",
   "metadata": {},
   "outputs": [],
   "source": [
    "#data.columns"
   ]
  },
  {
   "cell_type": "code",
   "execution_count": null,
   "id": "d2431f85",
   "metadata": {},
   "outputs": [
    {
     "data": {
      "text/plain": [
       "\"dropping unnecessary columns\\nAs I need to reduce the size of dataset for uploading it to github so I did that manually but if you are downloading\\ndataset from the official kaggel website so you have to run this column \\ndata.drop(['Additional_Number_of_Scoring','Review_Date','Reviewer_Nationality',\\n          'Negative_Review', 'Review_Total_Negative_Word_Counts',\\n       'Total_Number_of_Reviews', 'Positive_Review','Review_Total_Positive_Word_Counts',\\n       'Total_Number_of_Reviews_Reviewer_Has_Given', 'Reviewer_Score',\\n          'days_since_review', 'lat', 'lng'],1,inplace=True)\""
      ]
     },
     "execution_count": 13,
     "metadata": {},
     "output_type": "execute_result"
    }
   ],
   "source": [
    "\"\"\"dropping unnecessary columns\n",
    "As I need to reduce the size of dataset for uploading it to github so I did that manually but if you are downloading\n",
    "dataset from the official kaggel website so you have to run this column \n",
    "data.drop(['Additional_Number_of_Scoring','Review_Date','Reviewer_Nationality',\n",
    "          'Negative_Review', 'Review_Total_Negative_Word_Counts',\n",
    "       'Total_Number_of_Reviews', 'Positive_Review','Review_Total_Positive_Word_Counts',\n",
    "       'Total_Number_of_Reviews_Reviewer_Has_Given', 'Reviewer_Score',\n",
    "          'days_since_review', 'lat', 'lng'],1,inplace=True)\"\"\""
   ]
  },
  {
   "cell_type": "code",
   "execution_count": null,
   "id": "0341b461",
   "metadata": {},
   "outputs": [],
   "source": [
    "#data.columns"
   ]
  },
  {
   "cell_type": "code",
   "execution_count": 7,
   "id": "a3a0fde0",
   "metadata": {},
   "outputs": [],
   "source": [
    "# creating a function to convert the string of list into a normal list\n",
    "# getting rid of punctuation\n",
    "def impute(column):\n",
    "    column=column[0]\n",
    "    if(type(column)!=list):\n",
    "        return \"\".join(literal_eval(column))\n",
    "    else:\n",
    "        return column"
   ]
  },
  {
   "cell_type": "code",
   "execution_count": null,
   "id": "bb87843d",
   "metadata": {},
   "outputs": [],
   "source": [
    "#check on tags column\n",
    "#data.head()"
   ]
  },
  {
   "cell_type": "code",
   "execution_count": 8,
   "id": "06ddb6e8",
   "metadata": {},
   "outputs": [
    {
     "name": "stderr",
     "output_type": "stream",
     "text": [
      "C:\\Users\\ahmed\\AppData\\Local\\Temp\\ipykernel_14264\\3092971875.py:4: FutureWarning: Series.__getitem__ treating keys as positions is deprecated. In a future version, integer keys will always be treated as labels (consistent with DataFrame behavior). To access a value by position, use `ser.iloc[pos]`\n",
      "  column=column[0]\n"
     ]
    }
   ],
   "source": [
    "# applying impute function to the \"Tags\" column in dataset\n",
    "# To get rid of punctuation(commas and apostrophes)\n",
    "data['Tags']=data[[\"Tags\"]].apply(impute,axis=1)\n",
    "#data.head()"
   ]
  },
  {
   "cell_type": "code",
   "execution_count": 9,
   "id": "98518baf",
   "metadata": {},
   "outputs": [],
   "source": [
    "#for simplicity, I will convert \"tags\" and \"countries\" columns to lowercase\n",
    "data['Tags']=data['Tags'].str.lower()\n",
    "data['countries']=data['countries'].str.lower()"
   ]
  },
  {
   "cell_type": "code",
   "execution_count": 10,
   "id": "45c6aed3",
   "metadata": {},
   "outputs": [],
   "source": [
    "# defining recommender funtion\n",
    "def recommender(location,description):\n",
    "    #dividing the texts into small tokens(sentences into words)\n",
    "    description=description.lower()\n",
    "    word_tokenize(description)\n",
    "    #applying stopwords\n",
    "    stop_words=stopwords.words('english')\n",
    "    #apply lemmatization\n",
    "    lemm=WordNetLemmatizer()\n",
    "    #connecting packages and filtering\n",
    "    filtered=(word for word in description if not word in stop_words)\n",
    "    filtered_set=set()\n",
    "    for fs in filtered:\n",
    "        filtered_set.add(lemm.lemmatize(fs))\n",
    "# creating a variable that takes in location and returns following features\n",
    "        country=data[data['countries']==location.lower()]\n",
    "        country=country.set_index(np.arange(country.shape[0]))\n",
    "        list1=[]; list2=[]; cos=[];\n",
    "        for i in range(country.shape[0]):\n",
    "            temp_token=word_tokenize(country['Tags'][i])\n",
    "            temp_set=[word for word in temp_token if not word in stop_words]\n",
    "            temp2_set=set()\n",
    "            for s in temp_set:\n",
    "                temp2_set.add(lemm.lemmatize(s))\n",
    "            vector =temp2_set.intersection(filtered_set)\n",
    "            cos.append(len(vector))\n",
    "            # applying cosine similarity\n",
    "        country['similarity']=cos\n",
    "        country=country.sort_values(by='similarity',ascending=False)\n",
    "        country.drop_duplicates(subset='Hotel_Name',keep='first',inplace=True)\n",
    "        country.sort_values('Average_Score',ascending=False,inplace=True)\n",
    "        country.reset_index(inplace=True)\n",
    "        return country[['Hotel_Name','Average_Score','Hotel_Address']].head(10)\n",
    "        "
   ]
  }
 ],
 "metadata": {
  "kernelspec": {
   "display_name": "Python 3 (ipykernel)",
   "language": "python",
   "name": "python3"
  },
  "language_info": {
   "codemirror_mode": {
    "name": "ipython",
    "version": 3
   },
   "file_extension": ".py",
   "mimetype": "text/x-python",
   "name": "python",
   "nbconvert_exporter": "python",
   "pygments_lexer": "ipython3",
   "version": "3.10.11"
  }
 },
 "nbformat": 4,
 "nbformat_minor": 5
}
